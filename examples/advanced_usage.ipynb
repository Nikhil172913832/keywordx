{
 "cells": [
  {
   "cell_type": "markdown",
   "id": "edc8dea8",
   "metadata": {},
   "source": [
    "# Advanced Usage Examples for KeywordX\n",
    "\n",
    "This notebook demonstrates advanced usage patterns and real-world examples for KeywordX, including:\n",
    "1. Working with different entity types and custom weights\n",
    "2. Processing job postings to extract skills and requirements\n",
    "3. Analyzing news articles for locations and dates\n",
    "4. Processing a CSV file with multiple records\n",
    "\n",
    "First, let's set up our environment and import required libraries."
   ]
  },
  {
   "cell_type": "code",
   "execution_count": 4,
   "id": "17c80b87",
   "metadata": {},
   "outputs": [],
   "source": [
    "import sys\n",
    "import os\n",
    "sys.path.append(os.path.abspath(\"..\"))\n",
    "\n",
    "from src.keywordx.extractor import KeywordExtractor\n",
    "import pandas as pd\n",
    "import pprint\n",
    "from datetime import datetime"
   ]
  },
  {
   "cell_type": "markdown",
   "id": "ab00c630",
   "metadata": {},
   "source": [
    "## 1. Entity Types and Custom Weights\n",
    "\n",
    "Let's explore how different entity types are handled and how custom weights affect matching."
   ]
  },
  {
   "cell_type": "code",
   "execution_count": null,
   "id": "d938907d",
   "metadata": {},
   "outputs": [
    {
     "name": "stdout",
     "output_type": "stream",
     "text": [
      "{'entities': [{'span': (29, 40), 'text': 'next Friday', 'type': 'DATE'},\n",
      "              {'span': (44, 60), 'text': 'the Hilton Hotel', 'type': 'FAC'},\n",
      "              {'span': (64, 77), 'text': 'New York City', 'type': 'GPE'},\n",
      "              {'span': (110, 113), 'text': '599', 'type': 'MONEY'},\n",
      "              {'span': (141, 144), 'text': '899', 'type': 'MONEY'},\n",
      "              {'span': (146, 154), 'text': 'Over 500', 'type': 'CARDINAL'},\n",
      "              {'span': (173, 179), 'text': 'London', 'type': 'GPE'},\n",
      "              {'span': (181, 186), 'text': 'Tokyo', 'type': 'GPE'},\n",
      "              {'span': (192, 205), 'text': 'San Francisco', 'type': 'GPE'}],\n",
      " 'semantic_matches': [{'keyword': 'date',\n",
      "                       'match': 'registration',\n",
      "                       'score': 0.9999996284747263},\n",
      "                      {'keyword': 'place',\n",
      "                       'match': 'New York City',\n",
      "                       'score': 0.792362229039683},\n",
      "                      {'keyword': 'money',\n",
      "                       'match': 'cost',\n",
      "                       'score': 0.7109847227835795},\n",
      "                      {'keyword': 'number',\n",
      "                       'match': 'the regular price',\n",
      "                       'score': 0.726429269721522}]}\n"
     ]
    }
   ],
   "source": [
    "# Initialize with custom weights for different entity types\n",
    "ke = KeywordExtractor(entity_weights={\n",
    "    'DATE': 1.5,      # Boost date matches\n",
    "    'GPE': 1.2,      # Slightly boost location matches\n",
    "    'MONEY': 0.8,     # Reduce priority of money mentions\n",
    "    'CARDINAL': 0.9   # Lower priority for numbers\n",
    "})\n",
    "\n",
    "# Example text with multiple entity types\n",
    "text = \"\"\"\n",
    "The conference will be held next Friday at the Hilton Hotel in New York City.\n",
    "Early bird registration costs $599, and the regular price is $899.\n",
    "Over 500 participants from London, Tokyo, and San Francisco are expected to attend.\n",
    "\"\"\"\n",
    "\n",
    "# Keywords to extract\n",
    "keywords = [\"date\", \"location\", \"cost\", \"attendance\"]  # More specific keywords\n",
    "\n",
    "# Extract and display results\n",
    "results = ke.extract(text, keywords)\n",
    "pprint.pprint(results)"
   ]
  },
  {
   "cell_type": "markdown",
   "id": "8494f4a6",
   "metadata": {},
   "source": [
    "## 2. Job Posting Analysis\n",
    "\n",
    "This example shows how to extract key information from job postings."
   ]
  },
  {
   "cell_type": "code",
   "execution_count": 7,
   "id": "3868e450",
   "metadata": {},
   "outputs": [
    {
     "name": "stdout",
     "output_type": "stream",
     "text": [
      "{'entities': [{'span': (44, 57), 'text': 'San Francisco', 'type': 'GPE'},\n",
      "              {'span': (72, 80), 'text': 'TechCorp', 'type': 'ORG'},\n",
      "              {'span': (175, 195),\n",
      "               'text': '$150,000 to $200,000',\n",
      "               'type': 'MONEY'},\n",
      "              {'span': (217, 225), 'text': '5+ years', 'type': 'DATE'},\n",
      "              {'span': (242, 248), 'text': 'Python', 'type': 'ORG'},\n",
      "              {'span': (250, 260), 'text': 'TensorFlow', 'type': 'ORG'},\n",
      "              {'span': (266, 273), 'text': 'PyTorch', 'type': 'ORG'},\n",
      "              {'span': (346, 362), 'text': 'Computer Science', 'type': 'ORG'},\n",
      "              {'span': (393, 405), 'text': 'January 2026', 'type': 'DATE'}],\n",
      " 'semantic_matches': [{'keyword': 'company',\n",
      "                       'match': 'company',\n",
      "                       'score': 0.9999996880793711},\n",
      "                      {'keyword': 'location',\n",
      "                       'match': '\\nSenior Machine Learning Engineer\\nLocation',\n",
      "                       'score': 0.7720433334612986},\n",
      "                      {'keyword': 'salary',\n",
      "                       'match': 'salary',\n",
      "                       'score': 0.9999996284747263},\n",
      "                      {'keyword': 'date',\n",
      "                       'match': 'date',\n",
      "                       'score': 0.9999996284747263},\n",
      "                      {'keyword': 'degree',\n",
      "                       'match': 'degree',\n",
      "                       'score': 0.9999996880793711},\n",
      "                      {'keyword': 'technology',\n",
      "                       'match': 'Computer Science',\n",
      "                       'score': 0.8395836214327952}]}\n"
     ]
    }
   ],
   "source": [
    "# Initialize extractor with weights favoring organizations and skills\n",
    "job_extractor = KeywordExtractor(entity_weights={\n",
    "    'ORG': 1.3,       # Boost company names\n",
    "    'PRODUCT': 1.2,    # Boost product/technology mentions\n",
    "    'GPE': 1.1        # Slightly boost locations\n",
    "})\n",
    "\n",
    "job_post = \"\"\"\n",
    "Senior Machine Learning Engineer\n",
    "Location: San Francisco, CA (Hybrid)\n",
    "\n",
    "TechCorp is seeking a Senior ML Engineer to join our AI team. \n",
    "The role offers a competitive salary of $150,000 to $200,000.\n",
    "\n",
    "Required Skills:\n",
    "- 5+ years experience with Python, TensorFlow, and PyTorch\n",
    "- Previous experience at FAANG companies preferred\n",
    "- Master's degree in Computer Science or related field\n",
    "\n",
    "Start date: January 2026\n",
    "\"\"\"\n",
    "\n",
    "job_keywords = [\"company\", \"location\", \"salary\", \"date\", \"degree\", \"technology\"]\n",
    "\n",
    "job_results = job_extractor.extract(job_post, job_keywords)\n",
    "pprint.pprint(job_results)"
   ]
  },
  {
   "cell_type": "markdown",
   "id": "bef8d051",
   "metadata": {},
   "source": [
    "## 3. News Article Analysis\n",
    "\n",
    "Example showing how to extract key information from news articles."
   ]
  },
  {
   "cell_type": "code",
   "execution_count": 8,
   "id": "fc0bb9d7",
   "metadata": {},
   "outputs": [
    {
     "name": "stdout",
     "output_type": "stream",
     "text": [
      "{'entities': [{'span': (68, 78), 'text': 'October 15', 'type': 'DATE'},\n",
      "              {'span': (98, 120),\n",
      "               'text': 'Tech Innovation Summit',\n",
      "               'type': 'ORG'},\n",
      "              {'span': (132, 138), 'text': 'Google', 'type': 'ORG'},\n",
      "              {'span': (143, 152), 'text': 'Microsoft', 'type': 'ORG'},\n",
      "              {'span': (213, 223), 'text': 'Sarah Chen', 'type': 'PERSON'},\n",
      "              {'span': (247, 255), 'text': 'DeepMind', 'type': 'ORG'},\n",
      "              {'span': (393, 403), 'text': 'over 1,000', 'type': 'CARDINAL'},\n",
      "              {'span': (421, 423), 'text': '50', 'type': 'CARDINAL'},\n",
      "              {'span': (455, 467), 'text': 'October 20th', 'type': 'DATE'},\n",
      "              {'span': (471, 504),\n",
      "               'text': 'the Santa Clara Convention Center',\n",
      "               'type': 'FAC'}],\n",
      " 'semantic_matches': [{'keyword': 'location',\n",
      "                       'match': 'a new neural architecture',\n",
      "                       'score': 0.6240192214751383},\n",
      "                      {'keyword': 'company',\n",
      "                       'match': 'a new neural architecture',\n",
      "                       'score': 0.7630487243437907},\n",
      "                      {'keyword': 'person',\n",
      "                       'match': 'that',\n",
      "                       'score': 0.6748269061350962},\n",
      "                      {'keyword': 'number',\n",
      "                       'match': 'Major AI Breakthroughs\\n\\nSILICON VALLEY',\n",
      "                       'score': 0.6629280607009074}]}\n"
     ]
    }
   ],
   "source": [
    "# Initialize with weights prioritizing dates, locations, and organizations\n",
    "news_extractor = KeywordExtractor(entity_weights={\n",
    "    'DATE': 1.4,\n",
    "    'GPE': 1.3,\n",
    "    'ORG': 1.2,\n",
    "    'PERSON': 1.1\n",
    "})\n",
    "\n",
    "article = \"\"\"\n",
    "Tech Summit 2025 Announces Major AI Breakthroughs\n",
    "\n",
    "SILICON VALLEY, October 15, 2025 - The annual Tech Innovation Summit,\n",
    "hosted by Google and Microsoft, revealed groundbreaking developments in AI technology.\n",
    "Dr. Sarah Chen, leading researcher at DeepMind, presented a new neural architecture\n",
    "that achieved unprecedented results in natural language understanding.\n",
    "\n",
    "The conference, attended by over 1,000 researchers from 50 countries,\n",
    "will continue until October 20th at the Santa Clara Convention Center.\n",
    "\"\"\"\n",
    "\n",
    "news_keywords = [\"event_date\", \"location\", \"company\", \"person\", \"number\"]\n",
    "\n",
    "news_results = news_extractor.extract(article, news_keywords)\n",
    "pprint.pprint(news_results)"
   ]
  },
  {
   "cell_type": "markdown",
   "id": "8460a1a6",
   "metadata": {},
   "source": [
    "## 4. CSV Processing Pipeline\n",
    "\n",
    "This example demonstrates how to process a CSV file containing multiple records."
   ]
  },
  {
   "cell_type": "code",
   "execution_count": 9,
   "id": "f920218a",
   "metadata": {},
   "outputs": [
    {
     "name": "stdout",
     "output_type": "stream",
     "text": [
      "\n",
      "Job 1: Data Scientist Opening\n",
      "{'entities': [{'span': (56, 62), 'text': 'Boston', 'type': 'GPE'},\n",
      "              {'span': (74, 83), 'text': '120k-150k', 'type': 'MONEY'},\n",
      "              {'span': (97, 107), 'text': 'March 2026', 'type': 'DATE'}],\n",
      " 'semantic_matches': [{'keyword': 'location',\n",
      "                       'match': 'a Data Scientist',\n",
      "                       'score': 0.6532986621165415},\n",
      "                      {'keyword': 'salary',\n",
      "                       'match': 'date',\n",
      "                       'score': 0.6166546503806254},\n",
      "                      {'keyword': 'date',\n",
      "                       'match': 'date',\n",
      "                       'score': 0.9999996284747263}]}\n",
      "\n",
      "Job 2: Product Manager Role\n",
      "{'entities': [{'span': (16, 20), 'text': 'Role', 'type': 'PERSON'},\n",
      "              {'span': (42, 49), 'text': 'Seattle', 'type': 'GPE'},\n",
      "              {'span': (81, 85), 'text': 'Comp', 'type': 'NORP'},\n",
      "              {'span': (88, 97), 'text': '140k-180k', 'type': 'MONEY'}],\n",
      " 'semantic_matches': [{'keyword': 'location',\n",
      "                       'match': 'Immediate start',\n",
      "                       'score': 0.5795037011408946},\n",
      "                      {'keyword': 'salary',\n",
      "                       'match': 'top tech companies',\n",
      "                       'score': 0.6185939471030375},\n",
      "                      {'keyword': 'date',\n",
      "                       'match': 'company',\n",
      "                       'score': 0.5940293232703349}]}\n",
      "\n",
      "Job 3: Software Engineer\n",
      "{'entities': [{'span': (47, 51), 'text': '130k', 'type': 'MONEY'},\n",
      "              {'span': (88, 101), 'text': 'San Francisco', 'type': 'GPE'}],\n",
      " 'semantic_matches': [{'keyword': 'location',\n",
      "                       'match': 'Software Engineer',\n",
      "                       'score': 0.5747329155707499},\n",
      "                      {'keyword': 'salary',\n",
      "                       'match': 'option',\n",
      "                       'score': 0.6397670666480204},\n",
      "                      {'keyword': 'date',\n",
      "                       'match': 'option',\n",
      "                       'score': 0.6731210510039469}]}\n"
     ]
    }
   ],
   "source": [
    "# Create a sample CSV with some data\n",
    "sample_data = \"\"\"\n",
    "title,description,date_posted\n",
    "Data Scientist Opening,\"Looking for a Data Scientist in Boston. Offering $120k-150k. Start date: March 2026.\",2025-10-01\n",
    "Product Manager Role,\"Senior PM needed in Seattle. Work with top tech companies. Comp: $140k-180k. Immediate start.\",2025-10-02\n",
    "Software Engineer,\"Remote position available. $130k base + stock options. Team based in San Francisco.\",2025-10-03\n",
    "\"\"\"\n",
    "\n",
    "# Save to CSV\n",
    "with open('sample_jobs.csv', 'w') as f:\n",
    "    f.write(sample_data)\n",
    "\n",
    "# Read CSV\n",
    "df = pd.read_csv('sample_jobs.csv')\n",
    "\n",
    "# Initialize extractor\n",
    "pipeline_extractor = KeywordExtractor(entity_weights={\n",
    "    'GPE': 1.3,\n",
    "    'MONEY': 1.2,\n",
    "    'DATE': 1.1\n",
    "})\n",
    "\n",
    "# Keywords to extract from each job posting\n",
    "pipeline_keywords = [\"location\", \"salary\", \"date\"]\n",
    "\n",
    "# Process each row\n",
    "def process_job_posting(row):\n",
    "    # Combine title and description for analysis\n",
    "    text = f\"{row['title']}. {row['description']}\"\n",
    "    return pipeline_extractor.extract(text, pipeline_keywords)\n",
    "\n",
    "# Apply processing to each row\n",
    "df['extracted_info'] = df.apply(process_job_posting, axis=1)\n",
    "\n",
    "# Display results\n",
    "for idx, row in df.iterrows():\n",
    "    print(f\"\\nJob {idx+1}: {row['title']}\")\n",
    "    pprint.pprint(row['extracted_info'])"
   ]
  },
  {
   "cell_type": "markdown",
   "id": "82807df9",
   "metadata": {},
   "source": [
    "## Cleanup\n",
    "\n",
    "Remove the sample CSV file we created"
   ]
  },
  {
   "cell_type": "code",
   "execution_count": 10,
   "id": "fc62eb17",
   "metadata": {},
   "outputs": [],
   "source": [
    "import os\n",
    "os.remove('sample_jobs.csv')"
   ]
  }
 ],
 "metadata": {
  "kernelspec": {
   "display_name": ".venv (3.11.8)",
   "language": "python",
   "name": "python3"
  },
  "language_info": {
   "codemirror_mode": {
    "name": "ipython",
    "version": 3
   },
   "file_extension": ".py",
   "mimetype": "text/x-python",
   "name": "python",
   "nbconvert_exporter": "python",
   "pygments_lexer": "ipython3",
   "version": "3.11.8"
  }
 },
 "nbformat": 4,
 "nbformat_minor": 5
}
