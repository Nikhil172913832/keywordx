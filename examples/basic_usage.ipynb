{
 "cells": [
  {
   "cell_type": "code",
   "execution_count": 1,
   "id": "661b80a9",
   "metadata": {},
   "outputs": [],
   "source": [
    "import sys\n",
    "import os\n",
    "sys.path.append(os.path.abspath(\"../src\"))\n",
    "from keywordx import KeywordExtractor\n",
    "import pprint"
   ]
  },
  {
   "cell_type": "code",
   "execution_count": 2,
   "id": "b385afe1",
   "metadata": {},
   "outputs": [],
   "source": [
    "ke = KeywordExtractor()\n",
    "text = \"Tomorrow I have a work meeting at 5pm in Bangalore.\"\n",
    "keywords = [\"meeting\", \"time\", \"place\", \"date\"]"
   ]
  },
  {
   "cell_type": "code",
   "execution_count": 3,
   "id": "08c2c6ca",
   "metadata": {},
   "outputs": [
    {
     "name": "stdout",
     "output_type": "stream",
     "text": [
      "{'entities': [{'span': (0, 8), 'text': 'Tomorrow', 'type': 'DATE'},\n",
      "              {'span': (34, 37), 'text': '5pm', 'type': 'TIME'},\n",
      "              {'span': (41, 50), 'text': 'Bangalore', 'type': 'GPE'}],\n",
      " 'semantic_matches': [{'keyword': 'meeting',\n",
      "                       'match': 'meeting',\n",
      "                       'score': 0.9999997476840159},\n",
      "                      {'keyword': 'time', 'match': '5pm', 'score': 1.0},\n",
      "                      {'keyword': 'place', 'match': 'Bangalore', 'score': 1.0},\n",
      "                      {'keyword': 'date', 'match': 'Tomorrow', 'score': 1.0}]}\n"
     ]
    }
   ],
   "source": [
    "res = ke.extract(text, keywords)\n",
    "pprint.pprint(res)"
   ]
  },
  {
   "cell_type": "code",
   "execution_count": null,
   "id": "7bfc5a86",
   "metadata": {},
   "outputs": [],
   "source": []
  }
 ],
 "metadata": {
  "kernelspec": {
   "display_name": ".keywordx",
   "language": "python",
   "name": "python3"
  },
  "language_info": {
   "codemirror_mode": {
    "name": "ipython",
    "version": 3
   },
   "file_extension": ".py",
   "mimetype": "text/x-python",
   "name": "python",
   "nbconvert_exporter": "python",
   "pygments_lexer": "ipython3",
   "version": "3.11.2"
  }
 },
 "nbformat": 4,
 "nbformat_minor": 5
}
